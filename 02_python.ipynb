{
 "cells": [
  {
   "cell_type": "markdown",
   "metadata": {},
   "source": [
    "# Jupyter and Python Basics\n",
    "\n",
    "In this notebook, we will work with the following:\n",
    "\n",
    "- Jupyter features.\n",
    "- Python basic data types.\n",
    "- Python data structures.\n",
    "- Functions and methods.\n",
    "- Mutability."
   ]
  },
  {
   "cell_type": "code",
   "execution_count": 1,
   "metadata": {},
   "outputs": [],
   "source": [
    "# imports\n",
    "import time\n",
    "\n",
    "import pandas as pd\n",
    "import numpy as np\n",
    "import matplotlib"
   ]
  },
  {
   "cell_type": "markdown",
   "metadata": {},
   "source": [
    "# Jupyter\n",
    "\n",
    "The Jupyter lab interface and notebooks provide a number of conveniences for research.\n",
    "\n",
    "- Jupyter Lab: text editor, terminal, window layouts.\n",
    "- Rich text: bold, italic, headings.\n",
    "- Bullets, lists, and code (non-executing).\n",
    "- Links, images, and equations.\n",
    "- Display of graphics.\n",
    "- Convenience items with cell magics."
   ]
  },
  {
   "cell_type": "markdown",
   "metadata": {},
   "source": [
    "## Rich text\n",
    "\n",
    "Jupyter uses the simple [markdown](https://daringfireball.net/projects/markdown/) syntax for formatting text. There are some extensions and differences from original markdown, so you may find the [Jupyter Notebooks docs](https://jupyter-notebook.readthedocs.io/en/stable/examples/Notebook/Working%20With%20Markdown%20Cells.html) to be a better reference.\n",
    "\n",
    "- **Bold** a word by enclosing it in pairs of asterisks: `**Bold**`.\n",
    "- *Italicize* a word by enclosing it in single asterisks: `*Italicise*`.\n",
    "- ***Do both*** with three asterisks: `***Do both***`.\n",
    "- We can also use headings by starting the line with one or more pound signs, where one is a top-level heading: `#`.\n",
    "\n",
    "# First heading\n",
    "## Second heading\n",
    "### Third heading\n",
    "\n",
    "```\n",
    "# First heading\n",
    "## Second heading\n",
    "### Third heading\n",
    "```"
   ]
  },
  {
   "cell_type": "markdown",
   "metadata": {},
   "source": [
    "## Bullets and lists\n",
    "\n",
    "- Bullets can be made by beginning a line with a hyphen and a space: ` - Bullets. . .`.\n",
    "\n",
    "Numbered lists start with a number, period, and a space:\n",
    "\n",
    "1. First\n",
    "1. Second\n",
    "1. Third\n",
    "\n",
    "Note that they all start with `1. `, and markdown handles numbering for us. \n",
    "We could, of course, number them ourselves.\n",
    "\n",
    "```\n",
    "1. First\n",
    "1. Second\n",
    "1. Third\n",
    "```\n",
    "\n",
    "We can also nest lists and types by indenting:\n",
    "\n",
    "- Bullet\n",
    "    1. Nested list item\n",
    "    1. Another one\n",
    "- Another bullet\n",
    "    1. More lists\n",
    "        - More bullets\n",
    "        \n",
    "```\n",
    "- Bullet\n",
    "    1. Nested list item\n",
    "    1. Another one\n",
    "- Another bullet\n",
    "    1. More lists\n",
    "        - More bullets\n",
    "```"
   ]
  },
  {
   "cell_type": "markdown",
   "metadata": {},
   "source": [
    "## Code\n",
    "\n",
    "We can reference code in two ways.\n",
    "First, we can use inline code like `import this` by using backticks `` ` `` to enclode the code: `` `import this` ``.\n",
    "Second, we can make code blocks by using beginning and ending lines with three backticks: ```` ``` ````.\n",
    "Do note that I'm having to be tricky to display backticks inside of code.\n",
    "\n",
    "```\n",
    "def f_to_c(temp_f):\n",
    "    return (temp_f - 32) * 5/9\n",
    "```\n",
    "\n",
    "We can make it a little nicer (with syntax highlighting) by adding the code type to the first line: ```` ```python ````.\n",
    "\n",
    "```python\n",
    "def f_to_c(temp_f):\n",
    "    return (temp_f - 32) * 5/9\n",
    "```"
   ]
  },
  {
   "cell_type": "markdown",
   "metadata": {},
   "source": [
    "## Links, images, and equations.\n",
    "\n",
    "We can add links, like one to my [github page](https://github.com/jtkiley), using the text in brackets followed by the link in parentheses: `[github page](https://github.com/jtkiley)`.\n",
    "\n",
    "We can add images by using similar syntax to point to an image: `![alt text](./img/pandas_logo.png)`.\n",
    "\n",
    "![alt text](./img/pandas_logo.png)\n",
    "\n",
    "Similar to code, we can also use math and equations inline and in blocks.\n",
    "For inline math, like the union of a set $S \\cup T = \\{x \\mid x \\in S \\vee x \\in T\\}$, we can use a single dollar sign to denote math: `$S \\cup T = \\{x \\mid x \\in S \\vee x \\in T\\}$`.\n",
    "\n",
    "We can also use blocks by using beginning and ending lines with two dollar signs: `$$`.\n",
    "\n",
    "$$\n",
    "\\operatorname{MSE}=\\frac{1}{n}\\sum_{i=1}^n(Y_i-\\hat{Y_i})^2\n",
    "$$\n",
    "\n",
    "```\n",
    "$$\n",
    "\\operatorname{MSE}=\\frac{1}{n}\\sum_{i=1}^n(Y_i-\\hat{Y_i})^2\n",
    "$$\n",
    "```\n",
    "\n",
    "There are many math features, including matrices:\n",
    "\n",
    "$$ A = \\begin{pmatrix}\n",
    "\\underbrace{\\begin{matrix} a_{0,0} \\\\ a_{1,0} \\\\ \\vdots \\\\ a_{m-1,0} \\end{matrix}}_{a_0} &\n",
    "\\underbrace{\\begin{matrix} a_{0,1} \\\\ a_{1,1} \\\\ \\vdots \\\\ a_{m-1,1} \\end{matrix}}_{a_1} &\n",
    "\\begin{matrix} \\dots \\\\ \\dots \\\\ \\ddots \\\\ \\dots \\end{matrix} &\n",
    "\\underbrace{\\begin{matrix} a_{0,n-1} \\\\ a_{1,n-1} \\\\ \\vdots \\\\ a_{m-1,n-1} \\end{matrix}}_{a_{n-1}} \\\\\n",
    "\\end{pmatrix}\n",
    "$$\n",
    "\n",
    "```\n",
    "$$ A = \\begin{pmatrix}\n",
    "\\underbrace{\\begin{matrix} a_{0,0} \\\\ a_{1,0} \\\\ \\vdots \\\\ a_{m-1,0} \\end{matrix}}_{a_0} &\n",
    "\\underbrace{\\begin{matrix} a_{0,1} \\\\ a_{1,1} \\\\ \\vdots \\\\ a_{m-1,1} \\end{matrix}}_{a_1} &\n",
    "\\begin{matrix} \\dots \\\\ \\dots \\\\ \\ddots \\\\ \\dots \\end{matrix} &\n",
    "\\underbrace{\\begin{matrix} a_{0,n-1} \\\\ a_{1,n-1} \\\\ \\vdots \\\\ a_{m-1,n-1} \\end{matrix}}_{a_{n-1}} \\\\\n",
    "\\end{pmatrix}\n",
    "$$\n",
    "```"
   ]
  },
  {
   "cell_type": "markdown",
   "metadata": {},
   "source": [
    "## Graphics\n",
    "\n",
    "We can also display graphics that are output from our work with data."
   ]
  },
  {
   "cell_type": "code",
   "execution_count": 2,
   "metadata": {},
   "outputs": [],
   "source": [
    "# Create some random data\n",
    "data1 = pd.DataFrame(np.random.rand(200, 4), columns=[l for l in 'ABCD'])"
   ]
  },
  {
   "cell_type": "code",
   "execution_count": 3,
   "metadata": {},
   "outputs": [
    {
     "data": {
      "text/html": [
       "<div>\n",
       "<style scoped>\n",
       "    .dataframe tbody tr th:only-of-type {\n",
       "        vertical-align: middle;\n",
       "    }\n",
       "\n",
       "    .dataframe tbody tr th {\n",
       "        vertical-align: top;\n",
       "    }\n",
       "\n",
       "    .dataframe thead th {\n",
       "        text-align: right;\n",
       "    }\n",
       "</style>\n",
       "<table border=\"1\" class=\"dataframe\">\n",
       "  <thead>\n",
       "    <tr style=\"text-align: right;\">\n",
       "      <th></th>\n",
       "      <th>A</th>\n",
       "      <th>B</th>\n",
       "      <th>C</th>\n",
       "      <th>D</th>\n",
       "    </tr>\n",
       "  </thead>\n",
       "  <tbody>\n",
       "    <tr>\n",
       "      <th>0</th>\n",
       "      <td>0.637307</td>\n",
       "      <td>0.530875</td>\n",
       "      <td>0.302329</td>\n",
       "      <td>0.565583</td>\n",
       "    </tr>\n",
       "    <tr>\n",
       "      <th>1</th>\n",
       "      <td>0.216572</td>\n",
       "      <td>0.728663</td>\n",
       "      <td>0.394369</td>\n",
       "      <td>0.651888</td>\n",
       "    </tr>\n",
       "    <tr>\n",
       "      <th>2</th>\n",
       "      <td>0.208593</td>\n",
       "      <td>0.807819</td>\n",
       "      <td>0.856385</td>\n",
       "      <td>0.674196</td>\n",
       "    </tr>\n",
       "    <tr>\n",
       "      <th>3</th>\n",
       "      <td>0.386855</td>\n",
       "      <td>0.642894</td>\n",
       "      <td>0.704121</td>\n",
       "      <td>0.861531</td>\n",
       "    </tr>\n",
       "    <tr>\n",
       "      <th>4</th>\n",
       "      <td>0.163824</td>\n",
       "      <td>0.558584</td>\n",
       "      <td>0.046677</td>\n",
       "      <td>0.228504</td>\n",
       "    </tr>\n",
       "  </tbody>\n",
       "</table>\n",
       "</div>"
      ],
      "text/plain": [
       "          A         B         C         D\n",
       "0  0.637307  0.530875  0.302329  0.565583\n",
       "1  0.216572  0.728663  0.394369  0.651888\n",
       "2  0.208593  0.807819  0.856385  0.674196\n",
       "3  0.386855  0.642894  0.704121  0.861531\n",
       "4  0.163824  0.558584  0.046677  0.228504"
      ]
     },
     "execution_count": 3,
     "metadata": {},
     "output_type": "execute_result"
    }
   ],
   "source": [
    "# Display the top of the dataframe\n",
    "data1.head()"
   ]
  },
  {
   "cell_type": "code",
   "execution_count": 4,
   "metadata": {},
   "outputs": [
    {
     "data": {
      "image/png": "[encoded data removed]",
      "text/plain": [
       "<Figure size 432x288 with 4 Axes>"
      ]
     },
     "metadata": {
      "needs_background": "light"
     },
     "output_type": "display_data"
    }
   ],
   "source": [
    "%matplotlib inline\n",
    "\n",
    "# Make a histogram of the columns\n",
    "data1.hist();"
   ]
  },
  {
   "cell_type": "markdown",
   "metadata": {},
   "source": [
    "## Cell Magics\n",
    "\n",
    "There are many forms of [cell magics](https://ipython.readthedocs.io/en/stable/interactive/magics.html#magic-time) that provide convenience features.\n",
    "\n",
    "If you find yourself getting errors for a file not being found, it may help to know where the working directory is.\n",
    "You can use the `%pwd` magic."
   ]
  },
  {
   "cell_type": "code",
   "execution_count": 5,
   "metadata": {},
   "outputs": [
    {
     "data": {
      "text/plain": [
       "'/Users/jkiley/projects/2018_wu_workshop'"
      ]
     },
     "execution_count": 5,
     "metadata": {},
     "output_type": "execute_result"
    }
   ],
   "source": [
    "%pwd"
   ]
  },
  {
   "cell_type": "markdown",
   "metadata": {},
   "source": [
    "A really common issue with large text datasets is that some things take a long time to run.\n",
    "To know how long that it, we can use the `%%time` magic to get the time a cell takes to run.\n",
    "Do note how we're using two percent signs: `%%`.\n",
    "That makes the magic apply to the cell, instead of just the rest of the line."
   ]
  },
  {
   "cell_type": "code",
   "execution_count": 6,
   "metadata": {},
   "outputs": [
    {
     "name": "stdout",
     "output_type": "stream",
     "text": [
      "Done!\n",
      "CPU times: user 747 µs, sys: 912 µs, total: 1.66 ms\n",
      "Wall time: 2 s\n"
     ]
    }
   ],
   "source": [
    "%%time \n",
    "\n",
    "# Use time.sleep() to make this cell take some time.\n",
    "time.sleep(2)\n",
    "print('Done!')"
   ]
  },
  {
   "cell_type": "markdown",
   "metadata": {},
   "source": [
    "# Python\n",
    "\n",
    "Below, we will cover:\n",
    "\n",
    "- Basic data types: `int`, `float`,`str`.\n",
    "- Data structures: lists and dictionaries.\n",
    "- Functions and methods.\n",
    "- Mutability.\n",
    "\n",
    "\n",
    "## Basic data types\n",
    "\n",
    "### Integers"
   ]
  },
  {
   "cell_type": "code",
   "execution_count": 7,
   "metadata": {},
   "outputs": [],
   "source": [
    "# To create an int, we can just assign a number without a decimal.\n",
    "a = 2\n",
    "b = 3"
   ]
  },
  {
   "cell_type": "code",
   "execution_count": 8,
   "metadata": {},
   "outputs": [
    {
     "name": "stdout",
     "output_type": "stream",
     "text": [
      "Addition:        5\n",
      "Subtraction:    -1\n",
      "Multiplication:  6\n",
      "Exponentiation:  8\n"
     ]
    }
   ],
   "source": [
    "# Most operations preserve int types\n",
    "print(f'Addition:        {a + b}')\n",
    "print(f'Subtraction:    {a - b}')\n",
    "print(f'Multiplication:  {a * b}')\n",
    "print(f'Exponentiation:  {a ** b}')"
   ]
  },
  {
   "cell_type": "code",
   "execution_count": 9,
   "metadata": {},
   "outputs": [
    {
     "name": "stdout",
     "output_type": "stream",
     "text": [
      "Division:           1.5\n",
      "Floor/int Division: 1\n"
     ]
    }
   ],
   "source": [
    "# Division does not, but we can use floor division if that's what we want.\n",
    "print(f'Division:           {b / a}')\n",
    "print(f'Floor/int Division: {b // a}')"
   ]
  },
  {
   "cell_type": "code",
   "execution_count": 10,
   "metadata": {},
   "outputs": [
    {
     "name": "stdout",
     "output_type": "stream",
     "text": [
      "Division:           <class 'float'>\n",
      "Floor/int Division: <class 'int'>\n"
     ]
    }
   ],
   "source": [
    "# Printing types\n",
    "print(f'Division:           {type(b / a)}')\n",
    "print(f'Floor/int Division: {type(b // a)}')"
   ]
  },
  {
   "cell_type": "markdown",
   "metadata": {},
   "source": [
    "### Floats\n",
    "\n",
    "Anything with a float returns a float.\n",
    "Also, in the example below, note the imprecision we talked about earlier."
   ]
  },
  {
   "cell_type": "code",
   "execution_count": 11,
   "metadata": {},
   "outputs": [
    {
     "name": "stdout",
     "output_type": "stream",
     "text": [
      "Addition:        5.1\n",
      "Subtraction:     2.9\n",
      "Even here:       2.9999999999999996\n"
     ]
    }
   ],
   "source": [
    "c = 4\n",
    "d = 1.1\n",
    "\n",
    "print(f'Addition:        {c + d}')\n",
    "print(f'Subtraction:     {c - d}')\n",
    "print(f'Even here:       {4.1 - d}')"
   ]
  },
  {
   "cell_type": "code",
   "execution_count": 12,
   "metadata": {},
   "outputs": [
    {
     "name": "stdout",
     "output_type": "stream",
     "text": [
      "e:        123.456\n",
      "Too far: -inf\n"
     ]
    }
   ],
   "source": [
    "# Scientific notation works, too.\n",
    "e = 1.23456e02\n",
    "print(f'e:        {e}')\n",
    "print(f'Too far: {-1.23456e1000}')\n"
   ]
  },
  {
   "cell_type": "markdown",
   "metadata": {},
   "source": [
    "### Strings\n",
    "\n",
    "We denote a string with single `'` or double `\"` quote characters."
   ]
  },
  {
   "cell_type": "code",
   "execution_count": 13,
   "metadata": {},
   "outputs": [],
   "source": [
    "a_string = 'Hello!'\n",
    "b_string = \"Good way to contain 'single' quotes.\""
   ]
  },
  {
   "cell_type": "code",
   "execution_count": 14,
   "metadata": {},
   "outputs": [
    {
     "name": "stdout",
     "output_type": "stream",
     "text": [
      "Hello!\n",
      "Good way to contain 'single' quotes.\n"
     ]
    }
   ],
   "source": [
    "print(a_string)\n",
    "print(b_string)"
   ]
  },
  {
   "cell_type": "markdown",
   "metadata": {},
   "source": [
    "Above, I used a new Python 3.6 feature called f strings.\n",
    "This kind of string can contain code that is evaluated when the string is created, and it is very helpful for generating messages or other output."
   ]
  },
  {
   "cell_type": "code",
   "execution_count": 15,
   "metadata": {},
   "outputs": [
    {
     "name": "stdout",
     "output_type": "stream",
     "text": [
      "My name is: Jason\n"
     ]
    }
   ],
   "source": [
    "# Replace the following with your name.\n",
    "my_name = 'Jason'\n",
    "print(f'My name is: {my_name}')"
   ]
  },
  {
   "cell_type": "markdown",
   "metadata": {},
   "source": [
    "A common data handling issue is that we have something stored as strings that are actually numeric.\n",
    "We can convert these using the appropriate functions.\n",
    "We will see later that pandas can help us with this inside dataframes."
   ]
  },
  {
   "cell_type": "code",
   "execution_count": 16,
   "metadata": {},
   "outputs": [
    {
     "name": "stdout",
     "output_type": "stream",
     "text": [
      "6\n",
      "12340.0\n"
     ]
    }
   ],
   "source": [
    "f = '6'\n",
    "g = '1.234e4'\n",
    "print(int(f))\n",
    "print(float(g))"
   ]
  },
  {
   "cell_type": "markdown",
   "metadata": {},
   "source": [
    "## Data structures\n",
    "\n",
    "These are Python's built in data structures.\n",
    "They are simple, yet powerful, and they have pretty good performance.\n",
    "However, for things like dataframes, we use something designed for that use, like pandas.\n",
    "\n",
    "### Lists\n",
    "\n",
    "We're just scratching the surface with lists, but the [documentation](https://docs.python.org/3/tutorial/introduction.html#lists) is great."
   ]
  },
  {
   "cell_type": "code",
   "execution_count": 17,
   "metadata": {},
   "outputs": [
    {
     "name": "stdout",
     "output_type": "stream",
     "text": [
      "['Lists', 'are', 'quite', 'helpful']\n"
     ]
    }
   ],
   "source": [
    "a_list = ['Lists', 'are', 'quite', 'helpful']\n",
    "print(a_list)"
   ]
  },
  {
   "cell_type": "code",
   "execution_count": 18,
   "metadata": {},
   "outputs": [
    {
     "name": "stdout",
     "output_type": "stream",
     "text": [
      "[1, 'two', 3.0, 4]\n"
     ]
    }
   ],
   "source": [
    "# We can mix types, though we often don't.\n",
    "b_list = [\n",
    "    1,\n",
    "    'two',\n",
    "    3.0,\n",
    "    4\n",
    "]\n",
    "print(b_list)"
   ]
  },
  {
   "cell_type": "code",
   "execution_count": 19,
   "metadata": {},
   "outputs": [
    {
     "name": "stdout",
     "output_type": "stream",
     "text": [
      "1\n",
      "['Lists', 'are']\n"
     ]
    }
   ],
   "source": [
    "# Access with indices and slicing\n",
    "print(b_list[0])\n",
    "print(a_list[:2])"
   ]
  },
  {
   "cell_type": "markdown",
   "metadata": {},
   "source": [
    "### Dictionaries\n",
    "\n",
    "Like lists, see the [documentation](https://docs.python.org/3/tutorial/datastructures.html#dictionaries).\n",
    "There are some common things, like the pandas [rename method](https://pandas.pydata.org/pandas-docs/stable/basics.html#basics-rename), that take dictionaries."
   ]
  },
  {
   "cell_type": "code",
   "execution_count": 20,
   "metadata": {},
   "outputs": [
    {
     "name": "stdout",
     "output_type": "stream",
     "text": [
      "{'A': 1, 'B': 2, 'C': 3}\n"
     ]
    }
   ],
   "source": [
    "a_dict = {'A': 1, 'B': 2, 'C': 3}\n",
    "print(a_dict)"
   ]
  },
  {
   "cell_type": "code",
   "execution_count": 21,
   "metadata": {},
   "outputs": [
    {
     "data": {
      "text/plain": [
       "2"
      ]
     },
     "execution_count": 21,
     "metadata": {},
     "output_type": "execute_result"
    }
   ],
   "source": [
    "a_dict['B']"
   ]
  },
  {
   "cell_type": "markdown",
   "metadata": {},
   "source": [
    "## Functions and methods\n",
    "\n",
    "Functions are objects that take input and map that input to a particular output for a given input.\n",
    "Methods are functions that are bound to particular classes of objects.\n",
    "\n",
    "Like other basic topics, we're staying at a cursory, familiarization level, but the [documentation](https://docs.python.org/3/tutorial/controlflow.html#defining-functions) has the details."
   ]
  },
  {
   "cell_type": "code",
   "execution_count": 22,
   "metadata": {},
   "outputs": [],
   "source": [
    "def f_to_c(temp_f):\n",
    "    return (temp_f - 32) * 5/9"
   ]
  },
  {
   "cell_type": "code",
   "execution_count": 23,
   "metadata": {},
   "outputs": [
    {
     "name": "stdout",
     "output_type": "stream",
     "text": [
      "Freezing:   0.0\n",
      "Just right: 22.22222222222222\n",
      "Oklahoma:   47.22222222222222\n"
     ]
    }
   ],
   "source": [
    "print(f'Freezing:   {f_to_c(32)}')\n",
    "print(f'Just right: {f_to_c(72)}')\n",
    "print(f'Oklahoma:   {f_to_c(117)}')"
   ]
  },
  {
   "cell_type": "markdown",
   "metadata": {},
   "source": [
    "Methods are like functions, except that we reference the object, and then tend to operate on the object itself."
   ]
  },
  {
   "cell_type": "code",
   "execution_count": 24,
   "metadata": {},
   "outputs": [
    {
     "name": "stdout",
     "output_type": "stream",
     "text": [
      "MY CAPS LOCK KEY IS BROKEN, APPARENTLY.\n"
     ]
    }
   ],
   "source": [
    "c_string = 'MY CAPS LOCK KEY IS BROKEN, APPARENTLY.'\n",
    "print(c_string)"
   ]
  },
  {
   "cell_type": "code",
   "execution_count": 25,
   "metadata": {},
   "outputs": [
    {
     "data": {
      "text/plain": [
       "'my caps lock key is broken, apparently.'"
      ]
     },
     "execution_count": 25,
     "metadata": {},
     "output_type": "execute_result"
    }
   ],
   "source": [
    "# Using the lower method.\n",
    "c_string.lower()"
   ]
  },
  {
   "cell_type": "code",
   "execution_count": 26,
   "metadata": {},
   "outputs": [
    {
     "data": {
      "text/plain": [
       "['__add__',\n",
       " '__class__',\n",
       " '__contains__',\n",
       " '__delattr__',\n",
       " '__dir__',\n",
       " '__doc__',\n",
       " '__eq__',\n",
       " '__format__',\n",
       " '__ge__',\n",
       " '__getattribute__',\n",
       " '__getitem__',\n",
       " '__getnewargs__',\n",
       " '__gt__',\n",
       " '__hash__',\n",
       " '__init__',\n",
       " '__init_subclass__',\n",
       " '__iter__',\n",
       " '__le__',\n",
       " '__len__',\n",
       " '__lt__',\n",
       " '__mod__',\n",
       " '__mul__',\n",
       " '__ne__',\n",
       " '__new__',\n",
       " '__reduce__',\n",
       " '__reduce_ex__',\n",
       " '__repr__',\n",
       " '__rmod__',\n",
       " '__rmul__',\n",
       " '__setattr__',\n",
       " '__sizeof__',\n",
       " '__str__',\n",
       " '__subclasshook__',\n",
       " 'capitalize',\n",
       " 'casefold',\n",
       " 'center',\n",
       " 'count',\n",
       " 'encode',\n",
       " 'endswith',\n",
       " 'expandtabs',\n",
       " 'find',\n",
       " 'format',\n",
       " 'format_map',\n",
       " 'index',\n",
       " 'isalnum',\n",
       " 'isalpha',\n",
       " 'isdecimal',\n",
       " 'isdigit',\n",
       " 'isidentifier',\n",
       " 'islower',\n",
       " 'isnumeric',\n",
       " 'isprintable',\n",
       " 'isspace',\n",
       " 'istitle',\n",
       " 'isupper',\n",
       " 'join',\n",
       " 'ljust',\n",
       " 'lower',\n",
       " 'lstrip',\n",
       " 'maketrans',\n",
       " 'partition',\n",
       " 'replace',\n",
       " 'rfind',\n",
       " 'rindex',\n",
       " 'rjust',\n",
       " 'rpartition',\n",
       " 'rsplit',\n",
       " 'rstrip',\n",
       " 'split',\n",
       " 'splitlines',\n",
       " 'startswith',\n",
       " 'strip',\n",
       " 'swapcase',\n",
       " 'title',\n",
       " 'translate',\n",
       " 'upper',\n",
       " 'zfill']"
      ]
     },
     "execution_count": 26,
     "metadata": {},
     "output_type": "execute_result"
    }
   ],
   "source": [
    "# Look at the attributes and methods of c_string.\n",
    "dir(c_string)"
   ]
  },
  {
   "cell_type": "code",
   "execution_count": 27,
   "metadata": {},
   "outputs": [
    {
     "data": {
      "text/plain": [
       "'my caps lock key is fixed, apparently.'"
      ]
     },
     "execution_count": 27,
     "metadata": {},
     "output_type": "execute_result"
    }
   ],
   "source": [
    "# Let's try using .replace() chained with .lower().\n",
    "c_string.lower().replace('broken', 'fixed')"
   ]
  },
  {
   "cell_type": "markdown",
   "metadata": {},
   "source": [
    "## Mutability\n",
    "\n",
    "As we talked about before, objects can be mutable or immutable.\n",
    "Basic types tend to be immutable, and data structures tend to be mutable.\n",
    "\n",
    "### String example"
   ]
  },
  {
   "cell_type": "code",
   "execution_count": 28,
   "metadata": {},
   "outputs": [
    {
     "data": {
      "text/plain": [
       "'i am immutable!'"
      ]
     },
     "execution_count": 28,
     "metadata": {},
     "output_type": "execute_result"
    }
   ],
   "source": [
    "d_string = 'I am IMMUTABLE!'\n",
    "d_string.lower()"
   ]
  },
  {
   "cell_type": "code",
   "execution_count": 29,
   "metadata": {},
   "outputs": [
    {
     "data": {
      "text/plain": [
       "'I am IMMUTABLE!'"
      ]
     },
     "execution_count": 29,
     "metadata": {},
     "output_type": "execute_result"
    }
   ],
   "source": [
    "# Notice that it did not actually change.\n",
    "d_string"
   ]
  },
  {
   "cell_type": "code",
   "execution_count": 30,
   "metadata": {},
   "outputs": [],
   "source": [
    "# Because it's immutable, we'd need to assign the name d_string to the new lowercase object.\n",
    "d_string = d_string.lower()"
   ]
  },
  {
   "cell_type": "code",
   "execution_count": 31,
   "metadata": {},
   "outputs": [
    {
     "data": {
      "text/plain": [
       "'i am immutable!'"
      ]
     },
     "execution_count": 31,
     "metadata": {},
     "output_type": "execute_result"
    }
   ],
   "source": [
    "d_string"
   ]
  },
  {
   "cell_type": "markdown",
   "metadata": {},
   "source": [
    "### List example"
   ]
  },
  {
   "cell_type": "code",
   "execution_count": 32,
   "metadata": {},
   "outputs": [],
   "source": [
    "c_list = [1, 2, 3, 4]\n",
    "d_list = c_list"
   ]
  },
  {
   "cell_type": "code",
   "execution_count": 33,
   "metadata": {},
   "outputs": [
    {
     "data": {
      "text/plain": [
       "[1, 2, 3, 4]"
      ]
     },
     "execution_count": 33,
     "metadata": {},
     "output_type": "execute_result"
    }
   ],
   "source": [
    "c_list"
   ]
  },
  {
   "cell_type": "code",
   "execution_count": 34,
   "metadata": {},
   "outputs": [
    {
     "data": {
      "text/plain": [
       "[1, 2, 3, 4]"
      ]
     },
     "execution_count": 34,
     "metadata": {},
     "output_type": "execute_result"
    }
   ],
   "source": [
    "d_list"
   ]
  },
  {
   "cell_type": "code",
   "execution_count": 35,
   "metadata": {},
   "outputs": [],
   "source": [
    "# Appending a new list element.\n",
    "c_list.append(5)"
   ]
  },
  {
   "cell_type": "code",
   "execution_count": 36,
   "metadata": {},
   "outputs": [
    {
     "data": {
      "text/plain": [
       "[1, 2, 3, 4, 5]"
      ]
     },
     "execution_count": 36,
     "metadata": {},
     "output_type": "execute_result"
    }
   ],
   "source": [
    "# And there it is.\n",
    "c_list"
   ]
  },
  {
   "cell_type": "code",
   "execution_count": 37,
   "metadata": {},
   "outputs": [
    {
     "data": {
      "text/plain": [
       "[1, 2, 3, 4, 5]"
      ]
     },
     "execution_count": 37,
     "metadata": {},
     "output_type": "execute_result"
    }
   ],
   "source": [
    "# But it's here, too. Both names point to the same object.\n",
    "d_list"
   ]
  }
 ],
 "metadata": {
  "kernelspec": {
   "display_name": "Python 3",
   "language": "python",
   "name": "python3"
  },
  "language_info": {
   "codemirror_mode": {
    "name": "ipython",
    "version": 3
   },
   "file_extension": ".py",
   "mimetype": "text/x-python",
   "name": "python",
   "nbconvert_exporter": "python",
   "pygments_lexer": "ipython3",
   "version": "3.6.6"
  }
 },
 "nbformat": 4,
 "nbformat_minor": 2
}
