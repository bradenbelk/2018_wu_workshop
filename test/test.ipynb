{
 "cells": [
  {
   "cell_type": "markdown",
   "metadata": {},
   "source": [
    "# Workshop: environment test notebook\n",
    "\n",
    "For testing an early version of the environment that we'll use for the workshop, you will need to import it. There are two primary ways to import/create an environment. Here, I will focus on the graphical user interface instead of the command line.\n",
    "\n",
    "## GUI: import environment\n",
    "\n",
    "1. Open the Anaconda Navigator app.\n",
    "2. On the left, click Environment.\n",
    "3. At the bottom of the resulting main window, click Import.\n",
    "4. In the resulting popup, click the folder icon, navigate to the `environment.yml` file, and click Open. \n",
    "5. Back in the import popup, the environment name should be filled in automatically from the file, `workshop` in this case. Click Import.\n",
    "6. Wait for the packages for the environment to be downloaded and installed. This could take a few minutes.\n",
    "\n",
    "\n",
    "## GUI: run test notebook\n",
    "\n",
    "1. Open the Anaconda Navigator app.\n",
    "2. Make sure that the app is on the Home tab on the left.\n",
    "3. At the top in the Applications on dropdown box, make sure `workshop` is selected.\n",
    "4. Find JupyterLab in the main window and click its Launch button.\n",
    "5. Wait for a webpage to appear (quickly) in your web browser with the JupyterLab interface.\n",
    "6. In the file browser on the left side of JupyterLab interface, navigate to the notebook file and open it by double-clicking the icon to the left of the file name.\n",
    "7. At the top of the JupyterLab interface, click the Kernel menu and select \"Restart Kernel and Run All Cells...\"\n",
    "8. In the resulting popup, click Restart.\n",
    "9. Wait for the notebook to execute, and verify that there are no errors."
   ]
  },
  {
   "cell_type": "code",
   "execution_count": 1,
   "metadata": {},
   "outputs": [
    {
     "name": "stderr",
     "output_type": "stream",
     "text": [
      "Using TensorFlow backend.\n"
     ]
    }
   ],
   "source": [
    "import pandas as pd\n",
    "import numpy as np\n",
    "from textblob import TextBlob\n",
    "\n",
    "from keras.models import Sequential\n",
    "from keras.layers import Dense"
   ]
  },
  {
   "cell_type": "markdown",
   "metadata": {},
   "source": [
    "# pandas"
   ]
  },
  {
   "cell_type": "code",
   "execution_count": 2,
   "metadata": {},
   "outputs": [],
   "source": [
    "data1 = pd.DataFrame(np.random.rand(200, 4), columns=[l for l in 'ABCD'])\n",
    "data2 = pd.DataFrame(np.random.rand(200, 4), columns=[l for l in 'ABCD'])"
   ]
  },
  {
   "cell_type": "code",
   "execution_count": 3,
   "metadata": {},
   "outputs": [
    {
     "data": {
      "text/html": [
       "<div>\n",
       "<style scoped>\n",
       "    .dataframe tbody tr th:only-of-type {\n",
       "        vertical-align: middle;\n",
       "    }\n",
       "\n",
       "    .dataframe tbody tr th {\n",
       "        vertical-align: top;\n",
       "    }\n",
       "\n",
       "    .dataframe thead th {\n",
       "        text-align: right;\n",
       "    }\n",
       "</style>\n",
       "<table border=\"1\" class=\"dataframe\">\n",
       "  <thead>\n",
       "    <tr style=\"text-align: right;\">\n",
       "      <th></th>\n",
       "      <th>A</th>\n",
       "      <th>B</th>\n",
       "      <th>C</th>\n",
       "      <th>D</th>\n",
       "    </tr>\n",
       "  </thead>\n",
       "  <tbody>\n",
       "    <tr>\n",
       "      <th>0</th>\n",
       "      <td>0.762944</td>\n",
       "      <td>0.304976</td>\n",
       "      <td>0.373977</td>\n",
       "      <td>0.332725</td>\n",
       "    </tr>\n",
       "    <tr>\n",
       "      <th>1</th>\n",
       "      <td>0.851833</td>\n",
       "      <td>0.431951</td>\n",
       "      <td>0.838820</td>\n",
       "      <td>0.098913</td>\n",
       "    </tr>\n",
       "    <tr>\n",
       "      <th>2</th>\n",
       "      <td>0.340837</td>\n",
       "      <td>0.079770</td>\n",
       "      <td>0.320549</td>\n",
       "      <td>0.869864</td>\n",
       "    </tr>\n",
       "    <tr>\n",
       "      <th>3</th>\n",
       "      <td>0.288180</td>\n",
       "      <td>0.429324</td>\n",
       "      <td>0.630384</td>\n",
       "      <td>0.458718</td>\n",
       "    </tr>\n",
       "    <tr>\n",
       "      <th>4</th>\n",
       "      <td>0.019641</td>\n",
       "      <td>0.421082</td>\n",
       "      <td>0.803037</td>\n",
       "      <td>0.176504</td>\n",
       "    </tr>\n",
       "  </tbody>\n",
       "</table>\n",
       "</div>"
      ],
      "text/plain": [
       "          A         B         C         D\n",
       "0  0.762944  0.304976  0.373977  0.332725\n",
       "1  0.851833  0.431951  0.838820  0.098913\n",
       "2  0.340837  0.079770  0.320549  0.869864\n",
       "3  0.288180  0.429324  0.630384  0.458718\n",
       "4  0.019641  0.421082  0.803037  0.176504"
      ]
     },
     "execution_count": 3,
     "metadata": {},
     "output_type": "execute_result"
    }
   ],
   "source": [
    "data1.head()"
   ]
  },
  {
   "cell_type": "code",
   "execution_count": 4,
   "metadata": {},
   "outputs": [
    {
     "data": {
      "image/png": "[encoded data removed]",
      "text/plain": [
       "<Figure size 432x288 with 4 Axes>"
      ]
     },
     "metadata": {
      "needs_background": "light"
     },
     "output_type": "display_data"
    }
   ],
   "source": [
    "%matplotlib inline\n",
    "data1.hist();"
   ]
  },
  {
   "cell_type": "markdown",
   "metadata": {},
   "source": [
    "## TextBlob"
   ]
  },
  {
   "cell_type": "code",
   "execution_count": 5,
   "metadata": {},
   "outputs": [
    {
     "data": {
      "text/plain": [
       "Sentiment(polarity=0.375, subjectivity=0.2)"
      ]
     },
     "execution_count": 5,
     "metadata": {},
     "output_type": "execute_result"
    }
   ],
   "source": [
    "string1 = 'Text analysis is a lot of fun!'\n",
    "TextBlob(string1).sentiment"
   ]
  },
  {
   "cell_type": "code",
   "execution_count": 6,
   "metadata": {},
   "outputs": [
    {
     "data": {
      "text/plain": [
       "Sentiment(polarity=0.25, subjectivity=1.0)"
      ]
     },
     "execution_count": 6,
     "metadata": {},
     "output_type": "execute_result"
    }
   ],
   "source": [
    "string2 = 'It is not scary.'\n",
    "TextBlob(string2).sentiment"
   ]
  },
  {
   "cell_type": "code",
   "execution_count": 7,
   "metadata": {},
   "outputs": [
    {
     "data": {
      "text/plain": [
       "Sentiment(polarity=-1.0, subjectivity=1.0)"
      ]
     },
     "execution_count": 7,
     "metadata": {},
     "output_type": "execute_result"
    }
   ],
   "source": [
    "string3 = 'Manual coding is the worst.'\n",
    "TextBlob(string3).sentiment"
   ]
  },
  {
   "cell_type": "code",
   "execution_count": 8,
   "metadata": {},
   "outputs": [
    {
     "data": {
      "text/plain": [
       "Sentiment(polarity=-0.2, subjectivity=0.95)"
      ]
     },
     "execution_count": 8,
     "metadata": {},
     "output_type": "execute_result"
    }
   ],
   "source": [
    "string4 = 'Manual coding is kind of the worst.'\n",
    "TextBlob(string4).sentiment"
   ]
  },
  {
   "cell_type": "code",
   "execution_count": 9,
   "metadata": {},
   "outputs": [
    {
     "data": {
      "text/plain": [
       "Sentiment(polarity=-0.155, subjectivity=0.82)"
      ]
     },
     "execution_count": 9,
     "metadata": {},
     "output_type": "execute_result"
    }
   ],
   "source": [
    "strings = ' '.join([string1, string2, string3, string4])\n",
    "TextBlob(strings).sentiment"
   ]
  },
  {
   "cell_type": "markdown",
   "metadata": {},
   "source": [
    "## Keras\n",
    "\n",
    "Note that we're training a tiny model on random data, so we're not actually expecting anything here other than surfacing errors if something isn't working."
   ]
  },
  {
   "cell_type": "code",
   "execution_count": 10,
   "metadata": {},
   "outputs": [
    {
     "name": "stdout",
     "output_type": "stream",
     "text": [
      "Epoch 1/10\n",
      "200/200 [==============================] - 0s 681us/step - loss: 0.3252 - acc: 0.0000e+00\n",
      "Epoch 2/10\n",
      "200/200 [==============================] - 0s 25us/step - loss: 0.3252 - acc: 0.0000e+00\n",
      "Epoch 3/10\n",
      "200/200 [==============================] - 0s 24us/step - loss: 0.3252 - acc: 0.0000e+00\n",
      "Epoch 4/10\n",
      "200/200 [==============================] - 0s 22us/step - loss: 0.3252 - acc: 0.0000e+00\n",
      "Epoch 5/10\n",
      "200/200 [==============================] - 0s 22us/step - loss: 0.3252 - acc: 0.0000e+00\n",
      "Epoch 6/10\n",
      "200/200 [==============================] - 0s 23us/step - loss: 0.3252 - acc: 0.0000e+00\n",
      "Epoch 7/10\n",
      "200/200 [==============================] - 0s 22us/step - loss: 0.3252 - acc: 0.0000e+00\n",
      "Epoch 8/10\n",
      "200/200 [==============================] - 0s 22us/step - loss: 0.3252 - acc: 0.0000e+00\n",
      "Epoch 9/10\n",
      "200/200 [==============================] - 0s 21us/step - loss: 0.3252 - acc: 0.0000e+00\n",
      "Epoch 10/10\n",
      "200/200 [==============================] - 0s 22us/step - loss: 0.3252 - acc: 0.0000e+00\n"
     ]
    }
   ],
   "source": [
    "model = Sequential()\n",
    "\n",
    "model.add(Dense(units=16, activation='relu', input_dim=3))\n",
    "model.add(Dense(units=1, activation='softmax'))\n",
    "\n",
    "model.compile(loss='mse',\n",
    "              optimizer='rmsprop',\n",
    "              metrics=['accuracy'])\n",
    "\n",
    "model.fit(data1[['B', 'C', 'D']], data1['A'], epochs=10, batch_size=50);"
   ]
  },
  {
   "cell_type": "code",
   "execution_count": null,
   "metadata": {},
   "outputs": [],
   "source": []
  }
 ],
 "metadata": {
  "kernelspec": {
   "display_name": "Python 3",
   "language": "python",
   "name": "python3"
  },
  "language_info": {
   "codemirror_mode": {
    "name": "ipython",
    "version": 3
   },
   "file_extension": ".py",
   "mimetype": "text/x-python",
   "name": "python",
   "nbconvert_exporter": "python",
   "pygments_lexer": "ipython3",
   "version": "3.6.6"
  }
 },
 "nbformat": 4,
 "nbformat_minor": 2
}
